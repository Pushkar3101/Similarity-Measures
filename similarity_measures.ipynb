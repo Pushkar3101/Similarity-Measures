{
 "cells": [
  {
   "cell_type": "markdown",
   "metadata": {},
   "source": [
    "SIMILARITY MEASURES FOR VECTORS"
   ]
  },
  {
   "cell_type": "markdown",
   "metadata": {},
   "source": [
    "Euclidian Distance"
   ]
  },
  {
   "cell_type": "code",
   "execution_count": 1,
   "metadata": {},
   "outputs": [
    {
     "name": "stdout",
     "output_type": "stream",
     "text": [
      "7.0\n"
     ]
    }
   ],
   "source": [
    "#euclidean distance\n",
    "from math import*\n",
    " \n",
    "def euclidean_distance(x,y):\n",
    " \n",
    "    return sqrt(sum(pow(a-b,2) for a, b in zip(x, y)))\n",
    " \n",
    "print (euclidean_distance([0],[7]))"
   ]
  },
  {
   "cell_type": "markdown",
   "metadata": {},
   "source": [
    "Manhattan Distance"
   ]
  },
  {
   "cell_type": "code",
   "execution_count": 4,
   "metadata": {},
   "outputs": [
    {
     "name": "stdout",
     "output_type": "stream",
     "text": [
      "9\n"
     ]
    }
   ],
   "source": [
    "#manhattan distance\n",
    "from math import*\n",
    "def manhattan_dist(x,y):\n",
    "    return sum(abs(a-b) for a,b in zip(x,y))\n",
    "print( manhattan_dist([1,2,3],[4,5,6]))"
   ]
  },
  {
   "cell_type": "markdown",
   "metadata": {},
   "source": [
    "Minkowski Distance"
   ]
  },
  {
   "cell_type": "code",
   "execution_count": 44,
   "metadata": {},
   "outputs": [
    {
     "name": "stdout",
     "output_type": "stream",
     "text": [
      "8.373\n"
     ]
    }
   ],
   "source": [
    "#minkowski_distance\n",
    "\n",
    "from math import*\n",
    "from decimal import Decimal\n",
    "def nth_root(value, n_root):\n",
    "    root_value = 1/float(n_root)\n",
    "    return round(Decimal(value) ** Decimal(root_value),3)\n",
    "def minkowski_dist(x,y,P_value):\n",
    "    return nth_root(sum(pow(abs(a-b),P_value) for a, b in zip(x,y)), P_value)\n",
    "print(minkowski_dist([0,3,4,5],[7,6,3,-1],3))\n",
    "\n",
    " #p_value=1 : manhattan distance\n",
    " #p_value=2 : euclidean distance   \n",
    " #p_value=infinite : chebyshev diastance"
   ]
  },
  {
   "cell_type": "code",
   "execution_count": 46,
   "metadata": {},
   "outputs": [
    {
     "data": {
      "text/plain": [
       "3.0"
      ]
     },
     "execution_count": 46,
     "metadata": {},
     "output_type": "execute_result"
    }
   ],
   "source": [
    "import numpy as np\n",
    "a=[1,2,3,6]\n",
    "b=[4,5,6,7,8]\n",
    "np.mean(a)\n"
   ]
  },
  {
   "cell_type": "raw",
   "metadata": {},
   "source": [
    "Cosine Similarity"
   ]
  },
  {
   "cell_type": "code",
   "execution_count": 45,
   "metadata": {},
   "outputs": [
    {
     "name": "stdout",
     "output_type": "stream",
     "text": [
      "0.977\n"
     ]
    }
   ],
   "source": [
    "#standard correlation\n",
    "#cosine similarity\n",
    "import numpy as np\n",
    "from math import*\n",
    "def square_rooted(x):\n",
    "    return round(sqrt(sum([a*a for a in x])),3)\n",
    "def cos_sim(x,y):\n",
    "    return round(np.dot(x,y) / float(square_rooted(x)*square_rooted(y)),3)\n",
    "print(cos_sim([3, 35, 7, 2], [2, 54, 13, 15]))\n",
    "    "
   ]
  },
  {
   "cell_type": "markdown",
   "metadata": {},
   "source": [
    "Pearson correlation"
   ]
  },
  {
   "cell_type": "code",
   "execution_count": 1,
   "metadata": {},
   "outputs": [
    {
     "name": "stdout",
     "output_type": "stream",
     "text": [
      "1.0\n"
     ]
    }
   ],
   "source": [
    "#pearson correlation\n",
    "import numpy as np\n",
    "from math import*\n",
    "def square_rooted(x):\n",
    "    return round(sqrt(sum([a*a for a in x])),3)\n",
    "def pearson_correlation(x,y):\n",
    "    x_m =np.mean(x)\n",
    "    y_m =np.mean(y)\n",
    "    for i in range(len(x)):\n",
    "        x[i]=x[i] - x_m\n",
    "    for j in range(len(y)):\n",
    "        y[j]=y[j] - y_m\n",
    "    return round(np.dot(x,y) / float(square_rooted(x)*square_rooted(y)),3)\n",
    "print(pearson_correlation([1, 1575451, 1562, 78], [2, 450819, 46, 80]))"
   ]
  },
  {
   "cell_type": "markdown",
   "metadata": {},
   "source": [
    "Jaccard Similarity"
   ]
  },
  {
   "cell_type": "code",
   "execution_count": 22,
   "metadata": {},
   "outputs": [
    {
     "name": "stdout",
     "output_type": "stream",
     "text": [
      "0.375\n"
     ]
    }
   ],
   "source": [
    "#jaccard similarity\n",
    "from math import*\n",
    "def jaccard_similarity(x,y):\n",
    "    intersection_cardinality = len(set.intersection(*[set(x),set(y)]))\n",
    "    union_cardinality = len(set.union(*[set(x),set(y)]))\n",
    "    return (intersection_cardinality/float(union_cardinality))\n",
    "print(jaccard_similarity([0,1,2,5,6],[0,2,3,5,7,9]))"
   ]
  },
  {
   "cell_type": "markdown",
   "metadata": {},
   "source": [
    "Dice's Coefficient"
   ]
  },
  {
   "cell_type": "code",
   "execution_count": 40,
   "metadata": {},
   "outputs": [
    {
     "name": "stdout",
     "output_type": "stream",
     "text": [
      "0.6666666666666666\n"
     ]
    }
   ],
   "source": [
    "#dice's coefficient\n",
    "from math import*\n",
    "def dice_coefficient(x,y):\n",
    "    intersection_cardinality = len(set.intersection(*[set(x),set(y)]))\n",
    "    card_a = len(set(a))\n",
    "    card_b = len(set(b))\n",
    "    return (2*intersection_cardinality/float(card_a + card_b))\n",
    "print(dice_coefficient([0,1,2,5,6],[0,2,3,5,7,9]))"
   ]
  },
  {
   "cell_type": "markdown",
   "metadata": {},
   "source": [
    "Canberra Coefficient"
   ]
  },
  {
   "cell_type": "code",
   "execution_count": 18,
   "metadata": {},
   "outputs": [
    {
     "name": "stdout",
     "output_type": "stream",
     "text": [
      "2.365\n"
     ]
    }
   ],
   "source": [
    "#canberra coefiicient\n",
    "\n",
    "def canberra_coefficient(x,y):\n",
    "    return round(sum(abs(a-b)/(abs(a) + abs(b)) for a,b in zip(x,y)), 3)\n",
    "print(canberra_coefficient([0,1,2,3],[6,5,7,4]))"
   ]
  },
  {
   "cell_type": "markdown",
   "metadata": {},
   "source": [
    "Overlap Coefficient"
   ]
  },
  {
   "cell_type": "code",
   "execution_count": 42,
   "metadata": {},
   "outputs": [
    {
     "name": "stdout",
     "output_type": "stream",
     "text": [
      "0.75\n"
     ]
    }
   ],
   "source": [
    "#overlap coefficient\n",
    "from math import*\n",
    "def overlap_coefficient(x,y):\n",
    "    intersection_cardinality = len(set.intersection(*[set(x),set(y)]))\n",
    "    card_a = len(set(a))\n",
    "    card_b = len(set(b))\n",
    "    s= min(card_a,card_b)\n",
    "    return (intersection_cardinality/float(s))\n",
    "print(overlap_coefficient([0,1,2,5,6],[0,2,3,5,7,9]))"
   ]
  },
  {
   "cell_type": "markdown",
   "metadata": {},
   "source": [
    "Mahalanobis Distance\n"
   ]
  },
  {
   "cell_type": "code",
   "execution_count": null,
   "metadata": {},
   "outputs": [],
   "source": [
    "#mahalanobis diastance\n",
    "\n",
    "import numpy as np\n",
    "from scipy.spatial.distance import cdist\n",
    "\n",
    "x = np.array([[[1,2,3,4,5],\n",
    "               [5,6,7,8,5],\n",
    "               [5,6,7,8,5]],\n",
    "              [[11,22,23,24,5],\n",
    "               [25,26,27,28,5],\n",
    "               [5,6,7,8,5]]])\n",
    "i,j,k = x.shape\n",
    "\n",
    "xx = x.reshape(i,j*k).T\n",
    "\n",
    "\n",
    "y = np.array([[[31,32,33,34,5],\n",
    "               [35,36,37,38,5],\n",
    "               [5,6,7,8,5]],\n",
    "              [[41,42,43,44,5],\n",
    "               [45,46,47,48,5],\n",
    "               [5,6,7,8,5]]])\n",
    "\n",
    "\n",
    "yy = y.reshape(i,j*k).T\n",
    "\n",
    "results =  cdist(xx,yy,'mahalanobis')\n",
    "results = np.diag(results)\n",
    "print( results)\n"
   ]
  },
  {
   "cell_type": "code",
   "execution_count": 4,
   "metadata": {},
   "outputs": [
    {
     "name": "stdout",
     "output_type": "stream",
     "text": [
      "[2.28765854 2.75165028 2.75165028 2.75165028 0.         2.75165028\n",
      " 2.75165028 2.75165028 2.75165028 0.         0.         0.\n",
      " 0.         0.         0.        ]\n"
     ]
    }
   ],
   "source": [
    "#only using numpy\n",
    "X = np.vstack([xx,yy])\n",
    "V = np.cov(X.T)\n",
    "VI = np.linalg.inv(V)\n",
    "print (np.diag(np.sqrt(np.dot(np.dot((xx-yy),VI),(xx-yy).T))))"
   ]
  },
  {
   "cell_type": "markdown",
   "metadata": {},
   "source": [
    "Bray-Curtis distance"
   ]
  },
  {
   "cell_type": "code",
   "execution_count": 12,
   "metadata": {},
   "outputs": [
    {
     "name": "stdout",
     "output_type": "stream",
     "text": [
      "2.538\n"
     ]
    }
   ],
   "source": [
    "#bray - curtis distance\n",
    "\n",
    "def braycurtis_distance(x,y):\n",
    "    s1 = sum([abs((a+b)) for a,b in zip(x,y)])\n",
    "    s2 = sum([abs((a-b)) for a,b in zip(x,y)])\n",
    "    return round(s1/float(s2) ,3)\n",
    "print( braycurtis_distance([0,3,4,5],[7,6,5,3]))\n",
    "    "
   ]
  },
  {
   "cell_type": "markdown",
   "metadata": {},
   "source": [
    "SIMILARITY MEASURE FOR STRINGS"
   ]
  },
  {
   "cell_type": "markdown",
   "metadata": {},
   "source": [
    "Hamming Distance"
   ]
  },
  {
   "cell_type": "code",
   "execution_count": 11,
   "metadata": {},
   "outputs": [
    {
     "name": "stdout",
     "output_type": "stream",
     "text": [
      "6\n"
     ]
    }
   ],
   "source": [
    "#hamming distance- between the strings (dissimilarity of characters)\n",
    "\n",
    "def hamming_distance(str1,str2):\n",
    "    distance=0\n",
    "    for i in range(len(str1)):\n",
    "        if str1[i] != str2[i] :\n",
    "            distance += 1\n",
    "    return distance\n",
    "print(hamming_distance('njhnkcnklncknknlaakvnvkvkhvkhlavklva','njhnkcnklncknknlajfhnvkvkhvkhlauhfva'))\n",
    "        "
   ]
  },
  {
   "cell_type": "markdown",
   "metadata": {},
   "source": [
    "Lee Distance"
   ]
  },
  {
   "cell_type": "code",
   "execution_count": 16,
   "metadata": {},
   "outputs": [
    {
     "name": "stdout",
     "output_type": "stream",
     "text": [
      "8\n"
     ]
    }
   ],
   "source": [
    "#lee distance for q-ary alphabet\n",
    "\n",
    "def lee_distance(x,y,q):\n",
    "    return sum([min(abs(a-b),q- abs(a-b)) for a,b in zip(x,y)])\n",
    "print(lee_distance([1,2,3,4],[3,4,5,6],6))"
   ]
  },
  {
   "cell_type": "markdown",
   "metadata": {},
   "source": [
    "Simple Matching Coefficient"
   ]
  },
  {
   "cell_type": "code",
   "execution_count": 17,
   "metadata": {},
   "outputs": [
    {
     "name": "stdout",
     "output_type": "stream",
     "text": [
      "0.25\n"
     ]
    }
   ],
   "source": [
    "#simple matching coefficient\n",
    "\n",
    "def simple_matching_coeff(x,y):\n",
    "    p,q,r,s = (0,0,0,0)\n",
    "    for i in range(len(x)):\n",
    "        if x[i] ==1 and y[i] ==1 :\n",
    "            p += 1\n",
    "        elif x[i] == 1 and y[i]==0:\n",
    "            q += 1\n",
    "        elif x[i] == 0 and y[i] == 1:\n",
    "            r += 1\n",
    "        else:\n",
    "            s += 1\n",
    "    return (p+s)/float(p+q+r+s)\n",
    "print(simple_matching_coeff([1,1,1,1],[0,1,0,0]))"
   ]
  },
  {
   "cell_type": "markdown",
   "metadata": {},
   "source": [
    "Levensthein Distance"
   ]
  },
  {
   "cell_type": "code",
   "execution_count": 12,
   "metadata": {},
   "outputs": [
    {
     "name": "stdout",
     "output_type": "stream",
     "text": [
      "[[0. 1. 2. 3. 4. 5. 6. 7. 8.]\n",
      " [1. 1. 1. 2. 3. 4. 5. 6. 7.]\n",
      " [2. 2. 2. 2. 3. 4. 5. 6. 7.]\n",
      " [3. 3. 3. 3. 3. 4. 5. 6. 6.]\n",
      " [4. 4. 4. 4. 4. 3. 4. 5. 6.]\n",
      " [5. 5. 5. 5. 5. 4. 3. 4. 5.]\n",
      " [6. 6. 6. 6. 6. 5. 4. 3. 4.]\n",
      " [7. 7. 7. 7. 7. 6. 5. 4. 3.]]\n",
      "3.0\n"
     ]
    }
   ],
   "source": [
    "#levensthein distance\n",
    "\n",
    "import numpy as np\n",
    "\n",
    "def levenshtein(seq1, seq2):  \n",
    "    size_x = len(seq1) + 1\n",
    "    size_y = len(seq2) + 1\n",
    "    matrix = np.zeros ((size_x, size_y))\n",
    "    for x in range(size_x):\n",
    "        matrix [x, 0] = x\n",
    "    for y in range(size_y):\n",
    "        matrix [0, y] = y\n",
    "\n",
    "    for x in range(1, size_x):\n",
    "        for y in range(1, size_y):\n",
    "            if seq1[x-1] == seq2[y-1]:\n",
    "                matrix [x,y] = matrix[x-1, y-1] \n",
    "            else:\n",
    "                matrix [x,y] = min(\n",
    "                    matrix[x-1,y] + 1,\n",
    "                    matrix[x-1,y-1] + 1,\n",
    "                    matrix[x,y-1] + 1\n",
    "                )\n",
    "    print (matrix)\n",
    "    return (matrix[size_x - 1, size_y - 1])\n",
    "\n",
    "print( levenshtein('awesome','handsome'))"
   ]
  },
  {
   "cell_type": "code",
   "execution_count": null,
   "metadata": {},
   "outputs": [],
   "source": []
  }
 ],
 "metadata": {
  "kernelspec": {
   "display_name": "Python 3",
   "language": "python",
   "name": "python3"
  },
  "language_info": {
   "codemirror_mode": {
    "name": "ipython",
    "version": 3
   },
   "file_extension": ".py",
   "mimetype": "text/x-python",
   "name": "python",
   "nbconvert_exporter": "python",
   "pygments_lexer": "ipython3",
   "version": "3.6.4"
  }
 },
 "nbformat": 4,
 "nbformat_minor": 2
}
